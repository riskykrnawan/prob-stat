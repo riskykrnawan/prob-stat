{
  "nbformat": 4,
  "nbformat_minor": 0,
  "metadata": {
    "colab": {
      "name": "Praktik Probabilitas & Statistika.ipynb",
      "provenance": [],
      "collapsed_sections": []
    },
    "kernelspec": {
      "name": "python3",
      "display_name": "Python 3"
    },
    "language_info": {
      "name": "python"
    }
  },
  "cells": [
    {
      "cell_type": "code",
      "metadata": {
        "id": "yoNOj-91Vrhe"
      },
      "source": [
        "import pandas as pd\n",
        "import matplotlib.pyplot as plt\n",
        "import numpy as np\n",
        "from scipy import stats\n",
        "%matplotlib inline"
      ],
      "execution_count": null,
      "outputs": []
    },
    {
      "cell_type": "markdown",
      "metadata": {
        "id": "TGEb97ktXVh2"
      },
      "source": [
        "# **DF**"
      ]
    },
    {
      "cell_type": "code",
      "metadata": {
        "colab": {
          "base_uri": "https://localhost:8080/",
          "height": 201
        },
        "id": "xDrfG0FqV6q7",
        "outputId": "65505bed-31f3-42b6-c5d5-b6fdb9c73e70"
      },
      "source": [
        "df = pd.read_csv('sample_data/Dr.-Fahrul-Agus,MT_StudentsPerformance.csv')\n",
        "df.head(5)"
      ],
      "execution_count": null,
      "outputs": [
        {
          "output_type": "execute_result",
          "data": {
            "text/html": [
              "<div>\n",
              "<style scoped>\n",
              "    .dataframe tbody tr th:only-of-type {\n",
              "        vertical-align: middle;\n",
              "    }\n",
              "\n",
              "    .dataframe tbody tr th {\n",
              "        vertical-align: top;\n",
              "    }\n",
              "\n",
              "    .dataframe thead th {\n",
              "        text-align: right;\n",
              "    }\n",
              "</style>\n",
              "<table border=\"1\" class=\"dataframe\">\n",
              "  <thead>\n",
              "    <tr style=\"text-align: right;\">\n",
              "      <th></th>\n",
              "      <th>gender</th>\n",
              "      <th>race/ethnicity</th>\n",
              "      <th>parental level of education</th>\n",
              "      <th>lunch</th>\n",
              "      <th>test preparation course</th>\n",
              "      <th>math_score</th>\n",
              "      <th>reading_score</th>\n",
              "      <th>writing_score</th>\n",
              "    </tr>\n",
              "  </thead>\n",
              "  <tbody>\n",
              "    <tr>\n",
              "      <th>0</th>\n",
              "      <td>female</td>\n",
              "      <td>group B</td>\n",
              "      <td>bachelor's degree</td>\n",
              "      <td>standard</td>\n",
              "      <td>none</td>\n",
              "      <td>72</td>\n",
              "      <td>72</td>\n",
              "      <td>74</td>\n",
              "    </tr>\n",
              "    <tr>\n",
              "      <th>1</th>\n",
              "      <td>female</td>\n",
              "      <td>group C</td>\n",
              "      <td>some college</td>\n",
              "      <td>standard</td>\n",
              "      <td>completed</td>\n",
              "      <td>69</td>\n",
              "      <td>90</td>\n",
              "      <td>88</td>\n",
              "    </tr>\n",
              "    <tr>\n",
              "      <th>2</th>\n",
              "      <td>female</td>\n",
              "      <td>group B</td>\n",
              "      <td>master's degree</td>\n",
              "      <td>standard</td>\n",
              "      <td>none</td>\n",
              "      <td>90</td>\n",
              "      <td>95</td>\n",
              "      <td>93</td>\n",
              "    </tr>\n",
              "    <tr>\n",
              "      <th>3</th>\n",
              "      <td>male</td>\n",
              "      <td>group A</td>\n",
              "      <td>associate's degree</td>\n",
              "      <td>free/reduced</td>\n",
              "      <td>none</td>\n",
              "      <td>47</td>\n",
              "      <td>57</td>\n",
              "      <td>44</td>\n",
              "    </tr>\n",
              "    <tr>\n",
              "      <th>4</th>\n",
              "      <td>male</td>\n",
              "      <td>group C</td>\n",
              "      <td>some college</td>\n",
              "      <td>standard</td>\n",
              "      <td>none</td>\n",
              "      <td>76</td>\n",
              "      <td>78</td>\n",
              "      <td>75</td>\n",
              "    </tr>\n",
              "  </tbody>\n",
              "</table>\n",
              "</div>"
            ],
            "text/plain": [
              "   gender race/ethnicity  ... reading_score writing_score\n",
              "0  female        group B  ...            72            74\n",
              "1  female        group C  ...            90            88\n",
              "2  female        group B  ...            95            93\n",
              "3    male        group A  ...            57            44\n",
              "4    male        group C  ...            78            75\n",
              "\n",
              "[5 rows x 8 columns]"
            ]
          },
          "metadata": {},
          "execution_count": 42
        }
      ]
    },
    {
      "cell_type": "markdown",
      "metadata": {
        "id": "RGKWVVd2WnD6"
      },
      "source": [
        "#**Tabel Distribusi Frekuensi & Histogram (reading_score dan writing_score)**"
      ]
    },
    {
      "cell_type": "markdown",
      "metadata": {
        "id": "57fI9js0xgPe"
      },
      "source": [
        "## reading_score"
      ]
    },
    {
      "cell_type": "code",
      "metadata": {
        "colab": {
          "base_uri": "https://localhost:8080/",
          "height": 323
        },
        "id": "iyCffpdVXlBu",
        "outputId": "73992332-c7ad-471b-9cce-54f09af9cbe0"
      },
      "source": [
        "bins = [10, 20, 30, 40, 50, 60, 70, 80, 90, 100]\n",
        "reading_score = df['reading_score'].value_counts(bins=bins).reset_index().sort_values('index').reset_index(drop=True)\n",
        "reading_score.columns = ['Interval', 'Frekuensi']\n",
        "reading_score"
      ],
      "execution_count": null,
      "outputs": [
        {
          "output_type": "execute_result",
          "data": {
            "text/html": [
              "<div>\n",
              "<style scoped>\n",
              "    .dataframe tbody tr th:only-of-type {\n",
              "        vertical-align: middle;\n",
              "    }\n",
              "\n",
              "    .dataframe tbody tr th {\n",
              "        vertical-align: top;\n",
              "    }\n",
              "\n",
              "    .dataframe thead th {\n",
              "        text-align: right;\n",
              "    }\n",
              "</style>\n",
              "<table border=\"1\" class=\"dataframe\">\n",
              "  <thead>\n",
              "    <tr style=\"text-align: right;\">\n",
              "      <th></th>\n",
              "      <th>Interval</th>\n",
              "      <th>Frekuensi</th>\n",
              "    </tr>\n",
              "  </thead>\n",
              "  <tbody>\n",
              "    <tr>\n",
              "      <th>0</th>\n",
              "      <td>(9.999, 20.0]</td>\n",
              "      <td>1</td>\n",
              "    </tr>\n",
              "    <tr>\n",
              "      <th>1</th>\n",
              "      <td>(20.0, 30.0]</td>\n",
              "      <td>7</td>\n",
              "    </tr>\n",
              "    <tr>\n",
              "      <th>2</th>\n",
              "      <td>(30.0, 40.0]</td>\n",
              "      <td>19</td>\n",
              "    </tr>\n",
              "    <tr>\n",
              "      <th>3</th>\n",
              "      <td>(40.0, 50.0]</td>\n",
              "      <td>70</td>\n",
              "    </tr>\n",
              "    <tr>\n",
              "      <th>4</th>\n",
              "      <td>(50.0, 60.0]</td>\n",
              "      <td>178</td>\n",
              "    </tr>\n",
              "    <tr>\n",
              "      <th>5</th>\n",
              "      <td>(60.0, 70.0]</td>\n",
              "      <td>238</td>\n",
              "    </tr>\n",
              "    <tr>\n",
              "      <th>6</th>\n",
              "      <td>(70.0, 80.0]</td>\n",
              "      <td>252</td>\n",
              "    </tr>\n",
              "    <tr>\n",
              "      <th>7</th>\n",
              "      <td>(80.0, 90.0]</td>\n",
              "      <td>173</td>\n",
              "    </tr>\n",
              "    <tr>\n",
              "      <th>8</th>\n",
              "      <td>(90.0, 100.0]</td>\n",
              "      <td>62</td>\n",
              "    </tr>\n",
              "  </tbody>\n",
              "</table>\n",
              "</div>"
            ],
            "text/plain": [
              "        Interval  Frekuensi\n",
              "0  (9.999, 20.0]          1\n",
              "1   (20.0, 30.0]          7\n",
              "2   (30.0, 40.0]         19\n",
              "3   (40.0, 50.0]         70\n",
              "4   (50.0, 60.0]        178\n",
              "5   (60.0, 70.0]        238\n",
              "6   (70.0, 80.0]        252\n",
              "7   (80.0, 90.0]        173\n",
              "8  (90.0, 100.0]         62"
            ]
          },
          "metadata": {},
          "execution_count": 43
        }
      ]
    },
    {
      "cell_type": "code",
      "metadata": {
        "colab": {
          "base_uri": "https://localhost:8080/",
          "height": 265
        },
        "id": "fFGQO7sAdvqm",
        "outputId": "ca0b3a16-6ea8-4932-fb6a-5194ff8ee561"
      },
      "source": [
        "x = [10, 20, 30, 40, 50, 60, 70, 80, 90]\n",
        "reading_score_values = []\n",
        "\n",
        "for i in range(len(reading_score)):\n",
        "  reading_score_values.append(reading_score.values[i][1])\n",
        "\n",
        "plt.xticks(bins)\n",
        "plt.hist(x, bins, weights=reading_score_values) \n",
        "plt.show()"
      ],
      "execution_count": null,
      "outputs": [
        {
          "output_type": "display_data",
          "data": {
            "image/png": "[encoded data removed]",
            "text/plain": [
              "<Figure size 432x288 with 1 Axes>"
            ]
          },
          "metadata": {
            "needs_background": "light"
          }
        }
      ]
    },
    {
      "cell_type": "markdown",
      "metadata": {
        "id": "-L7DXm8WxiQd"
      },
      "source": [
        "## writing_score\n",
        "\n"
      ]
    },
    {
      "cell_type": "code",
      "metadata": {
        "colab": {
          "base_uri": "https://localhost:8080/",
          "height": 323
        },
        "id": "ZplH3QL1a7Iu",
        "outputId": "e8dca894-59c9-4911-9d0e-41e801a27ac1"
      },
      "source": [
        "bins = [10, 20, 30, 40, 50, 60, 70, 80, 90, 100]\n",
        "writing_score = df['writing_score'].value_counts(bins=bins).reset_index().sort_values('index').reset_index(drop=True)\n",
        "writing_score.columns = ['Interval', 'Frekuensi']\n",
        "writing_score"
      ],
      "execution_count": null,
      "outputs": [
        {
          "output_type": "execute_result",
          "data": {
            "text/html": [
              "<div>\n",
              "<style scoped>\n",
              "    .dataframe tbody tr th:only-of-type {\n",
              "        vertical-align: middle;\n",
              "    }\n",
              "\n",
              "    .dataframe tbody tr th {\n",
              "        vertical-align: top;\n",
              "    }\n",
              "\n",
              "    .dataframe thead th {\n",
              "        text-align: right;\n",
              "    }\n",
              "</style>\n",
              "<table border=\"1\" class=\"dataframe\">\n",
              "  <thead>\n",
              "    <tr style=\"text-align: right;\">\n",
              "      <th></th>\n",
              "      <th>Interval</th>\n",
              "      <th>Frekuensi</th>\n",
              "    </tr>\n",
              "  </thead>\n",
              "  <tbody>\n",
              "    <tr>\n",
              "      <th>0</th>\n",
              "      <td>(9.999, 20.0]</td>\n",
              "      <td>3</td>\n",
              "    </tr>\n",
              "    <tr>\n",
              "      <th>1</th>\n",
              "      <td>(20.0, 30.0]</td>\n",
              "      <td>7</td>\n",
              "    </tr>\n",
              "    <tr>\n",
              "      <th>2</th>\n",
              "      <td>(30.0, 40.0]</td>\n",
              "      <td>25</td>\n",
              "    </tr>\n",
              "    <tr>\n",
              "      <th>3</th>\n",
              "      <td>(40.0, 50.0]</td>\n",
              "      <td>89</td>\n",
              "    </tr>\n",
              "    <tr>\n",
              "      <th>4</th>\n",
              "      <td>(50.0, 60.0]</td>\n",
              "      <td>177</td>\n",
              "    </tr>\n",
              "    <tr>\n",
              "      <th>5</th>\n",
              "      <td>(60.0, 70.0]</td>\n",
              "      <td>243</td>\n",
              "    </tr>\n",
              "    <tr>\n",
              "      <th>6</th>\n",
              "      <td>(70.0, 80.0]</td>\n",
              "      <td>248</td>\n",
              "    </tr>\n",
              "    <tr>\n",
              "      <th>7</th>\n",
              "      <td>(80.0, 90.0]</td>\n",
              "      <td>140</td>\n",
              "    </tr>\n",
              "    <tr>\n",
              "      <th>8</th>\n",
              "      <td>(90.0, 100.0]</td>\n",
              "      <td>68</td>\n",
              "    </tr>\n",
              "  </tbody>\n",
              "</table>\n",
              "</div>"
            ],
            "text/plain": [
              "        Interval  Frekuensi\n",
              "0  (9.999, 20.0]          3\n",
              "1   (20.0, 30.0]          7\n",
              "2   (30.0, 40.0]         25\n",
              "3   (40.0, 50.0]         89\n",
              "4   (50.0, 60.0]        177\n",
              "5   (60.0, 70.0]        243\n",
              "6   (70.0, 80.0]        248\n",
              "7   (80.0, 90.0]        140\n",
              "8  (90.0, 100.0]         68"
            ]
          },
          "metadata": {},
          "execution_count": 45
        }
      ]
    },
    {
      "cell_type": "code",
      "metadata": {
        "colab": {
          "base_uri": "https://localhost:8080/",
          "height": 265
        },
        "id": "5wqg6vo-vchY",
        "outputId": "3189b532-e02f-47c1-d0cc-1c2f29a33614"
      },
      "source": [
        "x = [10, 20, 30, 40, 50, 60, 70, 80, 90]\n",
        "writing_score_values = []\n",
        "\n",
        "for i in range(len(writing_score)):\n",
        "  writing_score_values.append(writing_score.values[i][1])\n",
        "\n",
        "plt.xticks(bins)\n",
        "plt.hist(x, bins, weights=writing_score_values) \n",
        "plt.show()"
      ],
      "execution_count": null,
      "outputs": [
        {
          "output_type": "display_data",
          "data": {
            "image/png": "[encoded data removed]",
            "text/plain": [
              "<Figure size 432x288 with 1 Axes>"
            ]
          },
          "metadata": {
            "needs_background": "light"
          }
        }
      ]
    },
    {
      "cell_type": "markdown",
      "metadata": {
        "id": "FpndB78WylxY"
      },
      "source": [
        "# **Tentukan nilai Tendensi Central: Rata-rata, Median, Modus, Min dan Max (reading_score dan writing_score)**"
      ]
    },
    {
      "cell_type": "code",
      "metadata": {
        "id": "7T1sHHX70peC"
      },
      "source": [
        "reading = df['reading_score']\n",
        "writing = df['writing_score']"
      ],
      "execution_count": null,
      "outputs": []
    },
    {
      "cell_type": "markdown",
      "metadata": {
        "id": "iJE3DeuhxdUV"
      },
      "source": [
        "Mean (Rata-Rata)"
      ]
    },
    {
      "cell_type": "code",
      "metadata": {
        "colab": {
          "base_uri": "https://localhost:8080/"
        },
        "id": "U2OMoDNAyEyD",
        "outputId": "e29e7251-37ee-46f4-d1eb-4557695806c8"
      },
      "source": [
        "# reading\n",
        "np.mean(reading)"
      ],
      "execution_count": null,
      "outputs": [
        {
          "output_type": "execute_result",
          "data": {
            "text/plain": [
              "69.169"
            ]
          },
          "metadata": {},
          "execution_count": 48
        }
      ]
    },
    {
      "cell_type": "code",
      "metadata": {
        "colab": {
          "base_uri": "https://localhost:8080/"
        },
        "id": "MU6te65Wvpnr",
        "outputId": "3bf8c8f7-15b4-49d7-dad1-1fbf5868df63"
      },
      "source": [
        "# writing\n",
        "np.mean(writing)"
      ],
      "execution_count": null,
      "outputs": [
        {
          "output_type": "execute_result",
          "data": {
            "text/plain": [
              "68.054"
            ]
          },
          "metadata": {},
          "execution_count": 49
        }
      ]
    },
    {
      "cell_type": "markdown",
      "metadata": {
        "id": "4pQjor_wyYL8"
      },
      "source": [
        "Median"
      ]
    },
    {
      "cell_type": "code",
      "metadata": {
        "colab": {
          "base_uri": "https://localhost:8080/"
        },
        "id": "EqiFPKO6ycrY",
        "outputId": "334aa099-fe51-485c-ad42-a941dce66850"
      },
      "source": [
        "# reading\n",
        "np.median(reading)"
      ],
      "execution_count": null,
      "outputs": [
        {
          "output_type": "execute_result",
          "data": {
            "text/plain": [
              "70.0"
            ]
          },
          "metadata": {},
          "execution_count": 50
        }
      ]
    },
    {
      "cell_type": "code",
      "metadata": {
        "colab": {
          "base_uri": "https://localhost:8080/"
        },
        "id": "PjCi17HQy8w9",
        "outputId": "3e62e94f-5341-4d81-8476-615f6b312f41"
      },
      "source": [
        "# writing\n",
        "np.median(writing)"
      ],
      "execution_count": null,
      "outputs": [
        {
          "output_type": "execute_result",
          "data": {
            "text/plain": [
              "69.0"
            ]
          },
          "metadata": {},
          "execution_count": 51
        }
      ]
    },
    {
      "cell_type": "markdown",
      "metadata": {
        "id": "wof1QmXyzBv-"
      },
      "source": [
        "Modus"
      ]
    },
    {
      "cell_type": "code",
      "metadata": {
        "colab": {
          "base_uri": "https://localhost:8080/"
        },
        "id": "jDjqX09SzMVw",
        "outputId": "d14c9667-2178-4c56-c76b-c4c6bba2caa1"
      },
      "source": [
        "modus_read = stats.mode(reading)\n",
        "modus_read[0][0]"
      ],
      "execution_count": null,
      "outputs": [
        {
          "output_type": "execute_result",
          "data": {
            "text/plain": [
              "72"
            ]
          },
          "metadata": {},
          "execution_count": 52
        }
      ]
    },
    {
      "cell_type": "code",
      "metadata": {
        "colab": {
          "base_uri": "https://localhost:8080/"
        },
        "id": "NQ69CxLSzMlH",
        "outputId": "af971c12-0366-4c70-eed0-8064ed7b01aa"
      },
      "source": [
        "modus_write = stats.mode(writing)\n",
        "modus_write[0][0]"
      ],
      "execution_count": null,
      "outputs": [
        {
          "output_type": "execute_result",
          "data": {
            "text/plain": [
              "74"
            ]
          },
          "metadata": {},
          "execution_count": 53
        }
      ]
    },
    {
      "cell_type": "markdown",
      "metadata": {
        "id": "LPWMGkuQ0NrC"
      },
      "source": [
        "Min"
      ]
    },
    {
      "cell_type": "code",
      "metadata": {
        "colab": {
          "base_uri": "https://localhost:8080/"
        },
        "id": "l3kHRwFZ0PI5",
        "outputId": "a9895434-6dfa-4911-c102-63ae3022fc88"
      },
      "source": [
        "min(reading)"
      ],
      "execution_count": null,
      "outputs": [
        {
          "output_type": "execute_result",
          "data": {
            "text/plain": [
              "17"
            ]
          },
          "metadata": {},
          "execution_count": 54
        }
      ]
    },
    {
      "cell_type": "code",
      "metadata": {
        "colab": {
          "base_uri": "https://localhost:8080/"
        },
        "id": "os6vXTjQ0PXp",
        "outputId": "0f13149c-6605-445f-9c7f-14578c1cc4ef"
      },
      "source": [
        "min(writing)"
      ],
      "execution_count": null,
      "outputs": [
        {
          "output_type": "execute_result",
          "data": {
            "text/plain": [
              "10"
            ]
          },
          "metadata": {},
          "execution_count": 55
        }
      ]
    },
    {
      "cell_type": "markdown",
      "metadata": {
        "id": "M4wpq_jR1YFr"
      },
      "source": [
        "Max"
      ]
    },
    {
      "cell_type": "code",
      "metadata": {
        "colab": {
          "base_uri": "https://localhost:8080/"
        },
        "id": "1eWoLTZ21a_I",
        "outputId": "77ea59cc-5bba-4aac-8e32-ff5cc3be28f5"
      },
      "source": [
        "max(reading)"
      ],
      "execution_count": null,
      "outputs": [
        {
          "output_type": "execute_result",
          "data": {
            "text/plain": [
              "100"
            ]
          },
          "metadata": {},
          "execution_count": 56
        }
      ]
    },
    {
      "cell_type": "code",
      "metadata": {
        "colab": {
          "base_uri": "https://localhost:8080/"
        },
        "id": "L22Txytk1bLL",
        "outputId": "0ba707a7-c8df-4696-8b5c-2c22415844cc"
      },
      "source": [
        "max(writing)"
      ],
      "execution_count": null,
      "outputs": [
        {
          "output_type": "execute_result",
          "data": {
            "text/plain": [
              "100"
            ]
          },
          "metadata": {},
          "execution_count": 57
        }
      ]
    },
    {
      "cell_type": "markdown",
      "metadata": {
        "id": "H9jM8bA55iPy"
      },
      "source": [
        "# **Tentukan nilai Variasi: Jangkauan Range, Kisaran Interkuartil, Varians, Standar Deviasi (reading_score dan writing_score)**"
      ]
    },
    {
      "cell_type": "code",
      "metadata": {
        "id": "EmH1a1R964Cq"
      },
      "source": [
        "reading = df['reading_score']\n",
        "writing = df['writing_score']"
      ],
      "execution_count": null,
      "outputs": []
    },
    {
      "cell_type": "markdown",
      "metadata": {
        "id": "cOwYRsc16PD1"
      },
      "source": [
        "Range\n",
        "\n",
        "Jangkauan(Range) adalah selisih dari data dengan nilai terbesar dan terkecil sehingga :"
      ]
    },
    {
      "cell_type": "code",
      "metadata": {
        "id": "zxpdKCsn5vV3",
        "colab": {
          "base_uri": "https://localhost:8080/"
        },
        "outputId": "38403244-5f45-45bc-8b54-4827389dfadb"
      },
      "source": [
        "res_read = max(reading) - min(reading)\n",
        "res_read"
      ],
      "execution_count": null,
      "outputs": [
        {
          "output_type": "execute_result",
          "data": {
            "text/plain": [
              "83"
            ]
          },
          "metadata": {},
          "execution_count": 59
        }
      ]
    },
    {
      "cell_type": "code",
      "metadata": {
        "id": "XWj4mDbT5voq",
        "colab": {
          "base_uri": "https://localhost:8080/"
        },
        "outputId": "10bb8cbb-d05d-44ec-826b-17fe0ab521cd"
      },
      "source": [
        "res_write = max(writing) - min(writing)\n",
        "res_write"
      ],
      "execution_count": null,
      "outputs": [
        {
          "output_type": "execute_result",
          "data": {
            "text/plain": [
              "90"
            ]
          },
          "metadata": {},
          "execution_count": 60
        }
      ]
    },
    {
      "cell_type": "markdown",
      "metadata": {
        "id": "E1DsHAcz8laT"
      },
      "source": [
        "Kisaran Interkuartil\n",
        "\n",
        "Selisih antara Quartil-3 dengan Quartil-1 sehingga :"
      ]
    },
    {
      "cell_type": "code",
      "metadata": {
        "colab": {
          "base_uri": "https://localhost:8080/"
        },
        "id": "2inDGKdeqQoP",
        "outputId": "965480dc-a67b-4bfb-f10e-b5e18cd96839"
      },
      "source": [
        "# reading\n",
        "temp = reading.quantile([.25])\n",
        "q1 = int(temp)\n",
        "\n",
        "temp = reading.quantile([.75])\n",
        "q3 = int(temp)\n",
        "\n",
        "interkuartil = q3 - q1\n",
        "interkuartil"
      ],
      "execution_count": null,
      "outputs": [
        {
          "output_type": "execute_result",
          "data": {
            "text/plain": [
              "20"
            ]
          },
          "metadata": {},
          "execution_count": 61
        }
      ]
    },
    {
      "cell_type": "code",
      "metadata": {
        "colab": {
          "base_uri": "https://localhost:8080/"
        },
        "id": "57DobkA-8tNi",
        "outputId": "59f88c3e-1879-4a6b-df3f-f7d75694a4af"
      },
      "source": [
        "# writing\n",
        "\n",
        "temp = writing.quantile([.25])\n",
        "q1 = int(temp)\n",
        "\n",
        "temp = writing.quantile([.75])\n",
        "q3 = int(temp)\n",
        "\n",
        "interkuartil = q3 - q1\n",
        "interkuartil"
      ],
      "execution_count": null,
      "outputs": [
        {
          "output_type": "execute_result",
          "data": {
            "text/plain": [
              "22"
            ]
          },
          "metadata": {},
          "execution_count": 62
        }
      ]
    },
    {
      "cell_type": "markdown",
      "metadata": {
        "id": "7dfWNDk6tMz-"
      },
      "source": [
        "Varians\n",
        "\n",
        "kuadrat selisih dari masing-masing data terhadap nilai rata-ratanya, sehingga:"
      ]
    },
    {
      "cell_type": "code",
      "metadata": {
        "colab": {
          "base_uri": "https://localhost:8080/"
        },
        "id": "igeOYlCaDl1s",
        "outputId": "a451c67b-59d8-41e8-9ad4-575c7ff9dff1"
      },
      "source": [
        "# reading\n",
        "df.var(ddof=0)['reading_score']"
      ],
      "execution_count": null,
      "outputs": [
        {
          "output_type": "execute_result",
          "data": {
            "text/plain": [
              "212.9524390000001"
            ]
          },
          "metadata": {},
          "execution_count": 63
        }
      ]
    },
    {
      "cell_type": "code",
      "metadata": {
        "colab": {
          "base_uri": "https://localhost:8080/"
        },
        "id": "qNqLqhKTD8Z8",
        "outputId": "f8c414a9-4a31-4896-a69c-efd40f119be9"
      },
      "source": [
        "# writing\n",
        "df.var(ddof=0)['writing_score']"
      ],
      "execution_count": null,
      "outputs": [
        {
          "output_type": "execute_result",
          "data": {
            "text/plain": [
              "230.6770839999997"
            ]
          },
          "metadata": {},
          "execution_count": 64
        }
      ]
    },
    {
      "cell_type": "markdown",
      "metadata": {
        "id": "IG_BWV02E3ZV"
      },
      "source": [
        "Standar Deviasi\n",
        "\n",
        "mengukur penyebaran data tentang nilai rata-rata dari distribusi data"
      ]
    },
    {
      "cell_type": "code",
      "metadata": {
        "colab": {
          "base_uri": "https://localhost:8080/"
        },
        "id": "P5ASvRslFF5m",
        "outputId": "721b7205-a799-4850-d0f9-7129dca71f5d"
      },
      "source": [
        "# reading\n",
        "df.std(ddof=0)['reading_score']"
      ],
      "execution_count": null,
      "outputs": [
        {
          "output_type": "execute_result",
          "data": {
            "text/plain": [
              "14.59289001534652"
            ]
          },
          "metadata": {},
          "execution_count": 65
        }
      ]
    },
    {
      "cell_type": "code",
      "metadata": {
        "colab": {
          "base_uri": "https://localhost:8080/"
        },
        "id": "COhgQxUQFGX_",
        "outputId": "82aa972c-feb4-4386-a6ac-236b20ead14f"
      },
      "source": [
        "# writing\n",
        "df.std(ddof=0)['writing_score']"
      ],
      "execution_count": null,
      "outputs": [
        {
          "output_type": "execute_result",
          "data": {
            "text/plain": [
              "15.188057281956757"
            ]
          },
          "metadata": {},
          "execution_count": 66
        }
      ]
    },
    {
      "cell_type": "markdown",
      "metadata": {
        "id": "COmYJMTyGJao"
      },
      "source": [
        "# **Buat Grafik data Variabel reading_score dan writing_score: Histogram, BOX PLOT, dan Tentukan Nilai Skewness dan Kurtosis.**"
      ]
    },
    {
      "cell_type": "code",
      "metadata": {
        "id": "bZQ3VezPKuAG"
      },
      "source": [
        "reading = df['reading_score']\n",
        "writing = df['writing_score']"
      ],
      "execution_count": null,
      "outputs": []
    },
    {
      "cell_type": "markdown",
      "metadata": {
        "id": "VwDFBoOHGnaq"
      },
      "source": [
        "Histogram"
      ]
    },
    {
      "cell_type": "code",
      "metadata": {
        "colab": {
          "base_uri": "https://localhost:8080/",
          "height": 265
        },
        "id": "v3OW8-6UGPF5",
        "outputId": "e114f087-e161-4a5e-e8c6-f5ebfec35860"
      },
      "source": [
        "#reading\n",
        "plt.xticks(bins)\n",
        "plt.hist(reading, bins) \n",
        "plt.show()"
      ],
      "execution_count": null,
      "outputs": [
        {
          "output_type": "display_data",
          "data": {
            "image/png": "[encoded data removed]",
            "text/plain": [
              "<Figure size 432x288 with 1 Axes>"
            ]
          },
          "metadata": {
            "needs_background": "light"
          }
        }
      ]
    },
    {
      "cell_type": "code",
      "metadata": {
        "colab": {
          "base_uri": "https://localhost:8080/",
          "height": 265
        },
        "id": "pleBn5q5GPcm",
        "outputId": "99b79114-0f19-41b2-c341-73de61947ed2"
      },
      "source": [
        "#writing\n",
        "plt.xticks(bins)\n",
        "plt.hist(writing, bins=bins) \n",
        "plt.show()"
      ],
      "execution_count": null,
      "outputs": [
        {
          "output_type": "display_data",
          "data": {
            "image/png": "[encoded data removed]",
            "text/plain": [
              "<Figure size 432x288 with 1 Axes>"
            ]
          },
          "metadata": {
            "needs_background": "light"
          }
        }
      ]
    },
    {
      "cell_type": "markdown",
      "metadata": {
        "id": "t5TzXlQqGqhZ"
      },
      "source": [
        "Boxplot"
      ]
    },
    {
      "cell_type": "code",
      "metadata": {
        "colab": {
          "base_uri": "https://localhost:8080/",
          "height": 412
        },
        "id": "WySn9mTPHsJR",
        "outputId": "14ef917a-9fe6-4473-c307-1af2bd7d77ea"
      },
      "source": [
        "# reading\n",
        "fig1, ax1 = plt.subplots()\n",
        "ax1.set_title('Basic Plot')\n",
        "ax1.boxplot(reading)"
      ],
      "execution_count": null,
      "outputs": [
        {
          "output_type": "execute_result",
          "data": {
            "text/plain": [
              "{'boxes': [<matplotlib.lines.Line2D at 0x7fac67349d10>],\n",
              " 'caps': [<matplotlib.lines.Line2D at 0x7fac67351d10>,\n",
              "  <matplotlib.lines.Line2D at 0x7fac67357290>],\n",
              " 'fliers': [<matplotlib.lines.Line2D at 0x7fac67357d50>],\n",
              " 'means': [],\n",
              " 'medians': [<matplotlib.lines.Line2D at 0x7fac67357810>],\n",
              " 'whiskers': [<matplotlib.lines.Line2D at 0x7fac67351290>,\n",
              "  <matplotlib.lines.Line2D at 0x7fac673517d0>]}"
            ]
          },
          "metadata": {},
          "execution_count": 70
        },
        {
          "output_type": "display_data",
          "data": {
            "image/png": "[encoded data removed]",
            "text/plain": [
              "<Figure size 432x288 with 1 Axes>"
            ]
          },
          "metadata": {
            "needs_background": "light"
          }
        }
      ]
    },
    {
      "cell_type": "code",
      "metadata": {
        "colab": {
          "base_uri": "https://localhost:8080/",
          "height": 412
        },
        "id": "rHPC4gLYHsZf",
        "outputId": "a308b1dd-71f4-4964-9e15-db3215904bbd"
      },
      "source": [
        "# writing\n",
        "fig2, ax2 = plt.subplots()\n",
        "ax2.set_title('Basic Plot')\n",
        "ax2.boxplot(writing)"
      ],
      "execution_count": null,
      "outputs": [
        {
          "output_type": "execute_result",
          "data": {
            "text/plain": [
              "{'boxes': [<matplotlib.lines.Line2D at 0x7fac67343290>],\n",
              " 'caps': [<matplotlib.lines.Line2D at 0x7fac67347290>,\n",
              "  <matplotlib.lines.Line2D at 0x7fac673477d0>],\n",
              " 'fliers': [<matplotlib.lines.Line2D at 0x7fac672ce2d0>],\n",
              " 'means': [],\n",
              " 'medians': [<matplotlib.lines.Line2D at 0x7fac67347d50>],\n",
              " 'whiskers': [<matplotlib.lines.Line2D at 0x7fac673437d0>,\n",
              "  <matplotlib.lines.Line2D at 0x7fac67343d10>]}"
            ]
          },
          "metadata": {},
          "execution_count": 71
        },
        {
          "output_type": "display_data",
          "data": {
            "image/png": "[encoded data removed]",
            "text/plain": [
              "<Figure size 432x288 with 1 Axes>"
            ]
          },
          "metadata": {
            "needs_background": "light"
          }
        }
      ]
    },
    {
      "cell_type": "markdown",
      "metadata": {
        "id": "mb0RXCnUS2q7"
      },
      "source": [
        "Nilai Skewness"
      ]
    },
    {
      "cell_type": "code",
      "metadata": {
        "colab": {
          "base_uri": "https://localhost:8080/"
        },
        "id": "YX9Sz8MwS0JP",
        "outputId": "bfc84408-01bd-4d40-d349-8293074dd04a"
      },
      "source": [
        "#reading\n",
        "stats.skew(reading) "
      ],
      "execution_count": null,
      "outputs": [
        {
          "output_type": "execute_result",
          "data": {
            "text/plain": [
              "-0.25871569927829347"
            ]
          },
          "metadata": {},
          "execution_count": 72
        }
      ]
    },
    {
      "cell_type": "code",
      "metadata": {
        "colab": {
          "base_uri": "https://localhost:8080/"
        },
        "id": "BQZlwoFRVThl",
        "outputId": "ca851fd9-f609-48b4-a302-53a1dd73a3be"
      },
      "source": [
        "# writing\n",
        "stats.skew(writing)"
      ],
      "execution_count": null,
      "outputs": [
        {
          "output_type": "execute_result",
          "data": {
            "text/plain": [
              "-0.28900962452114176"
            ]
          },
          "metadata": {},
          "execution_count": 73
        }
      ]
    },
    {
      "cell_type": "markdown",
      "metadata": {
        "id": "qLDuMduGVcsg"
      },
      "source": [
        "Nilai Kurtosis"
      ]
    },
    {
      "cell_type": "code",
      "metadata": {
        "colab": {
          "base_uri": "https://localhost:8080/"
        },
        "id": "11YPUIsBVbiT",
        "outputId": "e7df8e34-9180-47cc-e8de-b706ae5768e8"
      },
      "source": [
        "#reading\n",
        "stats.kurtosis(reading)"
      ],
      "execution_count": null,
      "outputs": [
        {
          "output_type": "execute_result",
          "data": {
            "text/plain": [
              "-0.07391861478331307"
            ]
          },
          "metadata": {},
          "execution_count": 74
        }
      ]
    },
    {
      "cell_type": "code",
      "metadata": {
        "colab": {
          "base_uri": "https://localhost:8080/"
        },
        "id": "HDrhg8x8Vb-f",
        "outputId": "5ab6e595-d62c-4a43-9c8d-15706970af7e"
      },
      "source": [
        "# writing\n",
        "stats.kurtosis(writing)"
      ],
      "execution_count": null,
      "outputs": [
        {
          "output_type": "execute_result",
          "data": {
            "text/plain": [
              "-0.03919203131162252"
            ]
          },
          "metadata": {},
          "execution_count": 75
        }
      ]
    },
    {
      "cell_type": "markdown",
      "metadata": {
        "id": "0VNqvD-GV6kJ"
      },
      "source": [
        "# **Buat scater plot antara writing_score (dependent variable-Y) versus reading_score (independent variable-X).**"
      ]
    },
    {
      "cell_type": "code",
      "metadata": {
        "colab": {
          "base_uri": "https://localhost:8080/",
          "height": 265
        },
        "id": "96Bfant0WCcc",
        "outputId": "86308f7d-1818-4326-94b9-628f1ef58a6d"
      },
      "source": [
        "plt.scatter(reading, writing)\n",
        "plt.show()"
      ],
      "execution_count": null,
      "outputs": [
        {
          "output_type": "display_data",
          "data": {
            "image/png": "[encoded data removed]",
            "text/plain": [
              "<Figure size 432x288 with 1 Axes>"
            ]
          },
          "metadata": {
            "needs_background": "light"
          }
        }
      ]
    }
  ]
}